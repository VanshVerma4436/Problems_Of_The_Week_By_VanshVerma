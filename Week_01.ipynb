{
 "cells": [
  {
   "cell_type": "markdown",
   "metadata": {},
   "source": [
    "#  Problems of the Week – By Vansh Verma\n",
    "Programming challenges inspired by interview questions from **Facebook, Microsoft, and Amazon**.\n",
    "\n",
    "---\n",
    "##  Problem 1: Equal Sum Partition (Facebook)\n",
    "**Problem:** Determine if a list can be partitioned into two subsets with equal sums.\n",
    "\n",
    "**Examples:**\n",
    "- Input: [15, 5, 20, 10, 35, 15, 10] → Output: True\n",
    "- Input: [15, 5, 20, 10, 35] → Output: False\n",
    "\n",
    "**Constraints:**\n",
    "- 1 ≤ n ≤ 100\n",
    "- Non-negative integers\n",
    "\n",
    "**Approach:** Dynamic Programming (Subset Sum)"
   ]
  },
  {
   "cell_type": "code",
   "execution_count": null,
   "metadata": {},
   "outputs": [],
   "source": [
    "def can_partition(nums):\n",
    "    total = sum(nums)\n",
    "    if total % 2 != 0:\n",
    "        return False\n",
    "    target = total // 2\n",
    "    possible_sums = [0]\n",
    "    for num in nums:\n",
    "        new_sums = []\n",
    "        for s in possible_sums:\n",
    "            new_sum = s + num\n",
    "            if new_sum == target:\n",
    "                return True\n",
    "            if new_sum < target:\n",
    "                new_sums.append(new_sum)\n",
    "        possible_sums += new_sums\n",
    "    return target in possible_sums\n",
    "\n",
    "nums = list(map(int, input().split()))\n",
    "print(can_partition(nums))"
   ]
  },
  {
   "cell_type": "markdown",
   "metadata": {},
   "source": [
    "---\n",
    "##  Problem 2: Word Search in 2D Matrix (Microsoft)\n",
    "**Problem:** Check if a given word exists horizontally or vertically in a character matrix.\n",
    "\n",
    "**Example:**\n",
    "```\n",
    "matrix = [\n",
    " ['F','A','C','I'],\n",
    " ['O','B','Q','P'],\n",
    " ['A','N','O','B'],\n",
    " ['M','A','S','S']]\n",
    "word = \"FOAM\"\n",
    "Output: True\n",
    "```\n",
    "\n",
    "**Constraints:**\n",
    "- 1 ≤ M, N ≤ 100\n",
    "- Word length ≤ max(M, N)\n",
    "- All characters are uppercase\n",
    "\n",
    "**Approach:** Row & column string search"
   ]
  },
  {
   "cell_type": "code",
   "execution_count": null,
   "metadata": {},
   "outputs": [],
   "source": [
    "def word_search(matrix, word):\n",
    "    for row in matrix:\n",
    "        if word in \"\".join(row):\n",
    "            return True\n",
    "    for c in range(len(matrix[0])):\n",
    "        if word in \"\".join(matrix[r][c] for r in range(len(matrix))):\n",
    "            return True\n",
    "    return False\n",
    "\n",
    "matrix = [\n",
    " ['F','A','C','I'],\n",
    " ['O','B','Q','P'],\n",
    " ['A','N','O','B'],\n",
    " ['M','A','S','S']]\n",
    "\n",
    "print(word_search(matrix, \"FOAM\"))\n",
    "print(word_search(matrix, \"MASS\"))\n",
    "print(word_search(matrix, \"FACE\"))"
   ]
  },
  {
   "cell_type": "markdown",
   "metadata": {},
   "source": [
    "---\n",
    "##  Problem 3: GCD of N Numbers (Amazon)\n",
    "**Problem:** Find the greatest common divisor of N integers.\n",
    "\n",
    "**Example:**\n",
    "- Input: 3 → 42 56 14 → Output: 14\n",
    "- Input: 4 → 8 16 32 64 → Output: 8\n",
    "\n",
    "**Constraints:**\n",
    "- 1 ≤ n ≤ 10^5\n",
    "- 1 ≤ arr[i] ≤ 10^9\n",
    "\n",
    "**Approach:** Euclidean Algorithm (iterative)"
   ]
  },
  {
   "cell_type": "code",
   "execution_count": null,
   "metadata": {},
   "outputs": [],
   "source": [
    "import math\n",
    "\n",
    "def find_gcd(nums):\n",
    "    result = nums[0]\n",
    "    for num in nums[1:]:\n",
    "        result = math.gcd(result, num)\n",
    "    return result\n",
    "\n",
    "n = int(input())\n",
    "nums = list(map(int, input().split()))\n",
    "print(find_gcd(nums))"
   ]
  }
 ],
 "metadata": {
  "kernelspec": {
   "display_name": "Python 3",
   "language": "python",
   "name": "python3"
  },
  "language_info": {
   "name": "python",
   "version": "3.12.6"
  }
 },
 "nbformat": 4,
 "nbformat_minor": 5
}
